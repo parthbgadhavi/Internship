{
 "cells": [
  {
   "cell_type": "code",
   "execution_count": 2,
   "id": "fd90eff3",
   "metadata": {},
   "outputs": [
    {
     "name": "stdout",
     "output_type": "stream",
     "text": [
      "Python:Exercises::PHP:exercises:\n"
     ]
    }
   ],
   "source": [
    "#(1)Write a Python program to replace all occurrences of a space, comma, or dot with a colon.\n",
    "\n",
    "def replace_characters(text):\n",
    "    replacements = [' ', ',', '.']\n",
    "    for char in replacements:\n",
    "        text = text.replace(char, ':')\n",
    "    return text\n",
    "\n",
    "sample_text = 'Python Exercises, PHP exercises.'\n",
    "result = replace_characters(sample_text)\n",
    "print(result)\n",
    "\n"
   ]
  },
  {
   "cell_type": "code",
   "execution_count": 3,
   "id": "0fe2ad0a",
   "metadata": {},
   "outputs": [
    {
     "name": "stdout",
     "output_type": "stream",
     "text": [
      "['Apples', 'and', 'are', 'elephants', 'are']\n"
     ]
    }
   ],
   "source": [
    "#(2)Write a Python program to find all words starting with 'a' or 'e' in a given string.\n",
    "import re\n",
    "\n",
    "def find_words_starting_with_a_or_e(text):\n",
    "    words = re.findall(r'\\b[aeAE]\\w+\\b', text)\n",
    "    return words\n",
    "\n",
    "sample_text = \"Apples and oranges are delicious, but elephants are large.\"\n",
    "result = find_words_starting_with_a_or_e(sample_text)\n",
    "print(result)\n"
   ]
  },
  {
   "cell_type": "code",
   "execution_count": 6,
   "id": "ec7ff212",
   "metadata": {},
   "outputs": [
    {
     "name": "stdout",
     "output_type": "stream",
     "text": [
      "['Apples', 'and', 'are', 'elephants', 'are']\n"
     ]
    }
   ],
   "source": [
    "#(3)Create a function in python to find all words that are at least 4 characters long in a string. The use of the re.compile() method is mandatory.\n",
    "\n",
    "import re\n",
    "\n",
    "def find_long_words(text):\n",
    "    pattern = re.compile(r'\\b\\w{4,}\\b')\n",
    "    words = pattern.findall(text)\n",
    "    return words\n",
    "print(result)\n",
    "\n",
    "\n"
   ]
  },
  {
   "cell_type": "code",
   "execution_count": 2,
   "id": "8ee01b77",
   "metadata": {},
   "outputs": [
    {
     "name": "stdout",
     "output_type": "stream",
     "text": [
      "['This', 'with', 'words']\n"
     ]
    }
   ],
   "source": [
    "#(4)Create a function in python to find all three, four, and five character words in a string. \n",
    "#The use of the re.compile() method is mandatory.\n",
    " \n",
    "import re\n",
    "\n",
    "def find_words_of_length(string):\n",
    "    pattern = re.compile(r'\\b\\w{3,5}\\b')\n",
    "    words = pattern.findall(string)\n",
    "    return words\n",
    "\n",
    "\n",
    "print(result)\n"
   ]
  },
  {
   "cell_type": "code",
   "execution_count": 5,
   "id": "ed0d6b88",
   "metadata": {},
   "outputs": [
    {
     "name": "stdout",
     "output_type": "stream",
     "text": [
      "['Hello world', 'Python programming', 'Regex examples']\n"
     ]
    }
   ],
   "source": [
    "#(5) Create a function in Python to remove the parenthesis in a list of strings.\n",
    "#The use of the re.compile() method is mandatory.\n",
    "\n",
    "import re\n",
    "\n",
    "def remove_parentheses(strings):\n",
    "    pattern = re.compile(r'\\(|\\)')\n",
    "    result = [pattern.sub('', string) for string in strings]\n",
    "    return result\n",
    "\n",
    "\n",
    "print(result)\n"
   ]
  },
  {
   "cell_type": "code",
   "execution_count": 6,
   "id": "4f2d738b",
   "metadata": {},
   "outputs": [
    {
     "name": "stdout",
     "output_type": "stream",
     "text": [
      "['Importance', 'Of', 'Regular', 'Expressions', 'In', 'Python']\n"
     ]
    }
   ],
   "source": [
    "#(7)Write a regular expression in Python to split a string into uppercase letters.\n",
    "#Sample text: “ImportanceOfRegularExpressionsInPython”\n",
    "#Expected Output: [‘Importance’, ‘Of’, ‘Regular’, ‘Expression’, ‘In’, ‘Python’]\n",
    "\n",
    "\n",
    "import re\n",
    "\n",
    "sample_text = \"ImportanceOfRegularExpressionsInPython\"\n",
    "words = re.findall('[A-Z][a-z]*', sample_text)\n",
    "\n",
    "print(words)\n"
   ]
  },
  {
   "cell_type": "code",
   "execution_count": 7,
   "id": "91dd35cc",
   "metadata": {},
   "outputs": [
    {
     "name": "stdout",
     "output_type": "stream",
     "text": [
      "The string '12345Hello' starts with the number 12345.\n"
     ]
    }
   ],
   "source": [
    "#(12)Write a Python program where a string will start with a specific number. \n",
    "\n",
    "def starts_with_number(input_string, number):\n",
    "    return input_string.startswith(str(number))\n",
    "\n",
    "test_string = \"12345Hello\"\n",
    "specific_number = 12345\n",
    "\n",
    "if starts_with_number(test_string, specific_number):\n",
    "    print(f\"The string '{test_string}' starts with the number {specific_number}.\")\n",
    "else:\n",
    "    print(f\"The string '{test_string}' does not start with the number {specific_number}.\")\n"
   ]
  },
  {
   "cell_type": "code",
   "execution_count": 9,
   "id": "bb9406fa",
   "metadata": {},
   "outputs": [
    {
     "name": "stdout",
     "output_type": "stream",
     "text": [
      "Original IP: 192.168.001.001\n",
      "Cleaned IP: 192.168.1.1\n"
     ]
    }
   ],
   "source": [
    "#(13)Write a Python program to remove leading zeros from an IP address\n",
    "\n",
    "def remove_leading_zeros(ip_address):\n",
    "    components = ip_address.split('.')\n",
    "    cleaned_components = [str(int(component)) for component in components]\n",
    "    cleaned_ip_address = '.'.join(cleaned_components)\n",
    "    return cleaned_ip_address\n",
    "\n",
    "ip_with_zeros = \"192.168.001.001\"\n",
    "cleaned_ip = remove_leading_zeros(ip_with_zeros)\n",
    "print(f\"Original IP: {ip_with_zeros}\")\n",
    "print(f\"Cleaned IP: {cleaned_ip}\")\n",
    "\n",
    "\n"
   ]
  },
  {
   "cell_type": "code",
   "execution_count": 11,
   "id": "af5aad4e",
   "metadata": {},
   "outputs": [
    {
     "name": "stdout",
     "output_type": "stream",
     "text": [
      "'fox' found in the text.\n",
      "'dog' found in the text.\n",
      "'horse' not found in the text.\n"
     ]
    }
   ],
   "source": [
    "#(15)Write a Python program to search some literals strings in a string. \n",
    "\n",
    "sample_text = 'The quick brown fox jumps over the lazy dog.'\n",
    "searched_words = ['fox', 'dog', 'horse']\n",
    "\n",
    "for word in searched_words:\n",
    "    if word in sample_text:\n",
    "        print(f\"'{word}' found in the text.\")\n",
    "    else:\n",
    "        print(f\"'{word}' not found in the text.\")\n",
    "\n"
   ]
  },
  {
   "cell_type": "code",
   "execution_count": 12,
   "id": "7b9df8ba",
   "metadata": {},
   "outputs": [
    {
     "name": "stdout",
     "output_type": "stream",
     "text": [
      "Found 'exercises' at index 7 - 15\n",
      "Found 'exercises' at index 22 - 30\n",
      "Found 'exercises' at index 36 - 44\n"
     ]
    }
   ],
   "source": [
    "#(17)Write a Python program to find the substrings within a string.\n",
    "\n",
    "import re\n",
    "\n",
    "sample_text = 'Python exercises, PHP exercises, C# exercises'\n",
    "pattern = 'exercises'\n",
    "\n",
    "matches = re.finditer(pattern, sample_text)\n",
    "\n",
    "for match in matches:\n",
    "    start = match.start()\n",
    "    end = match.end()\n",
    "    print(f\"Found '{pattern}' at index {start} - {end-1}\")\n"
   ]
  },
  {
   "cell_type": "code",
   "execution_count": 13,
   "id": "f1c9806d",
   "metadata": {
    "scrolled": true
   },
   "outputs": [
    {
     "name": "stdout",
     "output_type": "stream",
     "text": [
      "Enter a date in yyyy-mm-dd format: 2023-04-15\n",
      "Converted date: 15-04-2023\n"
     ]
    }
   ],
   "source": [
    "#(19)Write a Python program to convert a date of yyyy-mm-dd format to dd-mm-yyyy format.\n",
    "\n",
    "def convert_date_format(date):\n",
    "    parts = date.split('-')\n",
    "    if len(parts) == 3:\n",
    "        year, month, day = parts\n",
    "        new_date = f\"{day}-{month}-{year}\"\n",
    "        return new_date\n",
    "    else:\n",
    "        return \"Invalid date format\"\n",
    "\n",
    "\n",
    "input_date = input(\"Enter a date in yyyy-mm-dd format: \")\n",
    "\n",
    "\n",
    "converted_date = convert_date_format(input_date)\n",
    "print(\"Converted date:\", converted_date)\n"
   ]
  },
  {
   "cell_type": "code",
   "execution_count": 14,
   "id": "bc8fec10",
   "metadata": {},
   "outputs": [
    {
     "name": "stdout",
     "output_type": "stream",
     "text": [
      "Largest numeric value: 950\n"
     ]
    }
   ],
   "source": [
    "#(22)Write a regular expression in python program to extract maximum/largest numeric value from a string.\n",
    "#Sample Text:  'My marks in each semester are: 947, 896, 926, 524, 734, 950, 642'\n",
    "#Expected Output: 950\n",
    "\n",
    "import re\n",
    "\n",
    "def extract_largest_number(text):\n",
    "    numbers = re.findall(r'\\d+', text)\n",
    "    if numbers:\n",
    "        largest_number = max(map(int, numbers))\n",
    "        return largest_number\n",
    "    else:\n",
    "        return None\n",
    "\n",
    "# Sample text\n",
    "sample_text = 'My marks in each semester are: 947, 896, 926, 524, 734, 950, 642'\n",
    "\n",
    "# Extract and print the largest numeric value\n",
    "largest_number = extract_largest_number(sample_text)\n",
    "if largest_number is not None:\n",
    "    print(\"Largest numeric value:\", largest_number)\n",
    "else:\n",
    "    print(\"No numeric values found in the text.\")\n",
    "\n"
   ]
  },
  {
   "cell_type": "code",
   "execution_count": 15,
   "id": "9e11ada0",
   "metadata": {},
   "outputs": [
    {
     "name": "stdout",
     "output_type": "stream",
     "text": [
      "['Regular', 'Expression', 'Is', 'An', 'Important', 'Topic', 'In', 'Python']\n"
     ]
    }
   ],
   "source": [
    "#(24)Python regex to find sequences of one upper case letter followed by lower case letters\n",
    "\n",
    "import re\n",
    "\n",
    "text = \"RegularExpressionIsAnImportantTopicInPython\"\n",
    "pattern = r'[A-Z][a-z]+'\n",
    "matches = re.findall(pattern, text)\n",
    "\n",
    "print(matches)\n"
   ]
  },
  {
   "cell_type": "code",
   "execution_count": 17,
   "id": "36e297c6",
   "metadata": {},
   "outputs": [
    {
     "name": "stdout",
     "output_type": "stream",
     "text": [
      "Hello world\n"
     ]
    }
   ],
   "source": [
    "#(25)Write a Python program to remove continuous duplicate words from Sentence using Regular Expression.\n",
    "#Sample Text: \"Hello hello world world\"\n",
    "#Expected Output: Hello hello world\n",
    "\n",
    "import re\n",
    "\n",
    "def remove_continuous_duplicates(sentence):\n",
    "    pattern = r'\\b(\\w+)(?:\\s+\\1\\b)+'\n",
    "    cleaned_sentence = re.sub(pattern, r'\\1', sentence, flags=re.IGNORECASE)\n",
    "    return cleaned_sentence\n",
    "\n",
    "sample_text = \"Hello hello world world\"\n",
    "output = remove_continuous_duplicates(sample_text)\n",
    "print(output)\n"
   ]
  },
  {
   "cell_type": "code",
   "execution_count": 18,
   "id": "266eca68",
   "metadata": {},
   "outputs": [
    {
     "name": "stdout",
     "output_type": "stream",
     "text": [
      "String: Hello123, Ends with Alphanumeric: True\n",
      "String: world456, Ends with Alphanumeric: True\n",
      "String: testing789, Ends with Alphanumeric: True\n",
      "String: Example!, Ends with Alphanumeric: False\n",
      "String: 12345, Ends with Alphanumeric: True\n",
      "String: abc_, Ends with Alphanumeric: True\n"
     ]
    }
   ],
   "source": [
    "#(26)Write a python program using RegEx to accept string ending with alphanumeric character.\n",
    "\n",
    "import re\n",
    "\n",
    "def ends_with_alphanumeric(input_string):\n",
    "    pattern = r'\\w$'\n",
    "    match = re.search(pattern, input_string)\n",
    "    return bool(match)\n",
    "\n",
    "test_strings = [\n",
    "    \"Hello123\",\n",
    "    \"world456\",\n",
    "    \"testing789\",\n",
    "    \"Example!\",\n",
    "    \"12345\",\n",
    "    \"abc_\"\n",
    "]\n",
    "\n",
    "for string in test_strings:\n",
    "    result = ends_with_alphanumeric(string)\n",
    "    print(f'String: {string}, Ends with Alphanumeric: {result}')\n"
   ]
  },
  {
   "cell_type": "code",
   "execution_count": 19,
   "id": "c5930473",
   "metadata": {},
   "outputs": [
    {
     "name": "stdout",
     "output_type": "stream",
     "text": [
      "['#Doltiwal', '#xyzabc', '#Demonetization']\n"
     ]
    }
   ],
   "source": [
    "#(27)Write a python program using RegEx to extract the hashtags.\n",
    "#Sample Text:  \"\"\"RT @kapil_kausik: #Doltiwal I mean #xyzabc is \"hurt\" by #Demonetization as the same has rendered USELESS <ed><U+00A0><U+00BD><ed><U+00B1><U+0089> \"acquired funds\" No wo\"\"\"\n",
    "#Expected Output: ['#Doltiwal', '#xyzabc', '#Demonetization']\n",
    "\n",
    "import re\n",
    "\n",
    "def extract_hashtags(text):\n",
    "    pattern = r'#\\w+'\n",
    "    hashtags = re.findall(pattern, text)\n",
    "    return hashtags\n",
    "\n",
    "sample_text = \"\"\"RT @kapil_kausik: #Doltiwal I mean #xyzabc is \"hurt\" by #Demonetization as the same has rendered USELESS <ed><U+00A0><U+00BD><ed><U+00B1><U+0089> \"acquired funds\" No wo\"\"\"\n",
    "hashtags = extract_hashtags(sample_text)\n",
    "print(hashtags)\n",
    "\n"
   ]
  },
  {
   "cell_type": "code",
   "execution_count": 22,
   "id": "b8718ea8",
   "metadata": {},
   "outputs": [
    {
     "name": "stdout",
     "output_type": "stream",
     "text": [
      "File 'sample_text.txt' not found.\n"
     ]
    }
   ],
   "source": [
    "#(29)Write a python program to extract dates from the text stored in the text file.\n",
    "#Sample Text: Ron was born on 12-09-1992 and he was admitted to school 15-12-1999.\n",
    "#note- Store this sample text in the file and then extract dates.\n",
    "import re\n",
    "\n",
    "def extract_dates(text):\n",
    "    date_pattern = r'\\d{2}-\\d{2}-\\d{4}'\n",
    "    dates = re.findall(date_pattern, text)\n",
    "    return dates\n",
    "\n",
    "def main():\n",
    "    file_path = 'sample_text.txt'\n",
    "\n",
    "    try:\n",
    "        with open(file_path, 'r') as file:\n",
    "            text = file.read()\n",
    "            dates = extract_dates(text)\n",
    "            \n",
    "            if dates:\n",
    "                print(\"Extracted dates:\")\n",
    "                for date in dates:\n",
    "                    print(date)\n",
    "            else:\n",
    "                print(\"No dates found in the text.\")\n",
    "    except FileNotFoundError:\n",
    "        print(f\"File '{file_path}' not found.\")\n",
    "\n",
    "if __name__ == \"__main__\":\n",
    "    main()\n"
   ]
  },
  {
   "cell_type": "code",
   "execution_count": 25,
   "id": "c1f0d4cd",
   "metadata": {},
   "outputs": [
    {
     "name": "stdout",
     "output_type": "stream",
     "text": [
      "following example creates ArrayList a capacity elements. 4 elements added ArrayList ArrayList trimmed accordingly.\n"
     ]
    }
   ],
   "source": [
    "#(30)Create a function in python to remove all words from a string of length between 2 and 4.\n",
    "#The use of the re.compile() method is mandatory.\n",
    "import re\n",
    "\n",
    "def remove_words_between_length(text):\n",
    "    pattern = re.compile(r'\\b\\w{2,4}\\b')\n",
    "    result = pattern.sub('', text)\n",
    "    result = re.sub(r'\\s+', ' ', result)\n",
    "    return result.strip()\n",
    "\n",
    "print(output)\n"
   ]
  },
  {
   "cell_type": "code",
   "execution_count": null,
   "id": "171a35ea",
   "metadata": {},
   "outputs": [],
   "source": []
  }
 ],
 "metadata": {
  "kernelspec": {
   "display_name": "Python 3 (ipykernel)",
   "language": "python",
   "name": "python3"
  },
  "language_info": {
   "codemirror_mode": {
    "name": "ipython",
    "version": 3
   },
   "file_extension": ".py",
   "mimetype": "text/x-python",
   "name": "python",
   "nbconvert_exporter": "python",
   "pygments_lexer": "ipython3",
   "version": "3.9.13"
  }
 },
 "nbformat": 4,
 "nbformat_minor": 5
}
